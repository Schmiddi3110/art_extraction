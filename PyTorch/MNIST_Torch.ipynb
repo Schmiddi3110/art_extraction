{
 "cells": [
  {
   "cell_type": "code",
   "execution_count": 1,
   "metadata": {},
   "outputs": [
    {
     "name": "stderr",
     "output_type": "stream",
     "text": [
      "/home/fabian/GitHub/art_extraction/.venv/lib/python3.12/site-packages/tqdm/auto.py:21: TqdmWarning: IProgress not found. Please update jupyter and ipywidgets. See https://ipywidgets.readthedocs.io/en/stable/user_install.html\n",
      "  from .autonotebook import tqdm as notebook_tqdm\n"
     ]
    },
    {
     "name": "stdout",
     "output_type": "stream",
     "text": [
      "cuda\n"
     ]
    }
   ],
   "source": [
    "import numpy as np\n",
    "import torch\n",
    "import torch.nn as nn\n",
    "import torch.optim as optim\n",
    "\n",
    "from torch.utils.data import DataLoader\n",
    "from art.estimators.classification import PyTorchClassifier\n",
    "import random \n",
    "\n",
    "from art.attacks import ExtractionAttack\n",
    "from art.attacks.extraction import CopycatCNN, KnockoffNets\n",
    "from torch.utils.data import random_split\n",
    "import pandas as pd\n",
    "import matplotlib.pyplot as plt\n",
    "import art\n",
    "from art.utils import load_mnist\n",
    "from torch.utils.data import DataLoader, TensorDataset\n",
    "from torch.utils.data import random_split\n",
    "\n",
    "\n",
    "from CNN_Models import BaseCNN2D\n",
    "\n",
    "\n",
    "random.seed(420)\n",
    "device = torch.device(\"cuda\" if torch.cuda.is_available() else \"cpu\")\n",
    "print(device)\n"
   ]
  },
  {
   "cell_type": "markdown",
   "metadata": {},
   "source": [
    "## Prepare data"
   ]
  },
  {
   "cell_type": "code",
   "execution_count": 2,
   "metadata": {},
   "outputs": [
    {
     "name": "stdout",
     "output_type": "stream",
     "text": [
      "Samples in training dataset: 54000\n",
      "Samples in validation dataset: 6000\n",
      "Samples in test dataset: 10000\n"
     ]
    }
   ],
   "source": [
    "(x_train, y_train), (x_test0, y_test0), _, _ = load_mnist()\n",
    "\n",
    "num_classes = 10\n",
    "num_epochs = 100\n",
    "learning_rate = 0.001\n",
    "batch_size = 128\n",
    "patience = 10  \n",
    "\n",
    "x_train = torch.tensor(x_train, dtype=torch.float32).squeeze(-1)\n",
    "y_train = torch.tensor(np.argmax(y_train, axis=1), dtype=torch.long)\n",
    "x_test0 = torch.tensor(x_test0, dtype=torch.float32).squeeze(-1)\n",
    "y_test0 = torch.tensor(np.argmax(y_test0, axis=1), dtype=torch.long)\n",
    "\n",
    "x_train = x_train.unsqueeze(1)\n",
    "x_test0 = x_test0.unsqueeze(1)\n",
    "\n",
    "train_dataset = TensorDataset(x_train, y_train)\n",
    "test_dataset0 = TensorDataset(x_test0, y_test0)\n",
    "\n",
    "validation_ratio = 0.1\n",
    "total_train_samples = len(train_dataset)\n",
    "validation_samples = int(total_train_samples * validation_ratio)\n",
    "training_samples = total_train_samples - validation_samples\n",
    "\n",
    "train_dataset, val_dataset = random_split(train_dataset, [training_samples, validation_samples])\n",
    "\n",
    "train_loader = DataLoader(train_dataset, batch_size=batch_size, shuffle=True)\n",
    "test_loader0 = DataLoader(test_dataset0, batch_size=batch_size, shuffle=False)\n",
    "val_loader = DataLoader(val_dataset, batch_size=batch_size, shuffle=True)\n",
    "\n",
    "print(f'Samples in training dataset: {len(train_dataset)}')\n",
    "print(f'Samples in validation dataset: {len(val_dataset)}')\n",
    "print(f'Samples in test dataset: {len(test_dataset0)}')"
   ]
  },
  {
   "cell_type": "markdown",
   "metadata": {},
   "source": [
    "## Train model"
   ]
  },
  {
   "cell_type": "code",
   "execution_count": 3,
   "metadata": {},
   "outputs": [
    {
     "name": "stdout",
     "output_type": "stream",
     "text": [
      "Epoch [1/5], Loss: 0.2846, Accuracy: 91.29%\n",
      "Epoch [2/5], Loss: 0.0942, Accuracy: 97.26%\n",
      "Epoch [3/5], Loss: 0.0708, Accuracy: 97.91%\n",
      "Epoch [4/5], Loss: 0.0568, Accuracy: 98.31%\n",
      "Epoch [5/5], Loss: 0.0516, Accuracy: 98.41%\n",
      "Validation at Epoch [5/5]: Loss: 0.0462, Accuracy: 98.47%\n"
     ]
    }
   ],
   "source": [
    "model = BaseCNN2D(num_classes=num_classes,device=device, num_epochs=5, learning_rate=learning_rate, patience=patience).to(device)\n",
    "model.train_model(train_loader, val_loader)"
   ]
  },
  {
   "cell_type": "markdown",
   "metadata": {},
   "source": [
    "## Test model"
   ]
  },
  {
   "cell_type": "code",
   "execution_count": 4,
   "metadata": {},
   "outputs": [
    {
     "name": "stdout",
     "output_type": "stream",
     "text": [
      "Test Accuracy: 0.99%\n"
     ]
    }
   ],
   "source": [
    "model.eval()\n",
    "correct = 0\n",
    "total = 0\n",
    "with torch.no_grad():\n",
    "    for inputs, labels in test_loader0:\n",
    "        inputs = inputs.cuda()\n",
    "        labels = labels.cuda()\n",
    "        outputs = model(inputs)\n",
    "        _, predicted = torch.max(outputs, 1)\n",
    "        total += labels.size(0)\n",
    "        correct += (predicted == labels).sum().item()\n",
    "\n",
    "accuracy = correct / total\n",
    "print(f\"Test Accuracy: {accuracy:.2f}%\")"
   ]
  },
  {
   "cell_type": "markdown",
   "metadata": {},
   "source": [
    "## Define original Classifier"
   ]
  },
  {
   "cell_type": "code",
   "execution_count": 5,
   "metadata": {},
   "outputs": [
    {
     "name": "stdout",
     "output_type": "stream",
     "text": [
      "Test Accuracy: 0.9907\n"
     ]
    }
   ],
   "source": [
    "criterion = nn.CrossEntropyLoss()\n",
    "optimizer_original = optim.Adam(model.parameters(), lr=learning_rate)\n",
    "classifier_original = PyTorchClassifier(model=model, loss=criterion, optimizer=optimizer_original, input_shape=(batch_size, x_train.shape[1], x_train.shape[2]), nb_classes=num_classes, device_type=\"gpu\" if torch.cuda.is_available() else \"cpu\")\n",
    "\n",
    "pred = classifier_original.predict(torch.FloatTensor(x_test0))\n",
    "\n",
    "preds = np.argmax(pred, axis=1)\n",
    "acc = np.mean(preds == y_test0.numpy())\n",
    "print(f'Test Accuracy: {acc:.4f}')"
   ]
  },
  {
   "cell_type": "markdown",
   "metadata": {},
   "source": [
    "## Run attacks"
   ]
  },
  {
   "cell_type": "code",
   "execution_count": 6,
   "metadata": {},
   "outputs": [
    {
     "name": "stdout",
     "output_type": "stream",
     "text": [
      "Running for len 10\n",
      "Attack: Probabilistic CopycatCNN, Steal Set Size: 10, Accuracy: 0.1000\n",
      "Attack: Argmax CopycatCNN, Steal Set Size: 10, Accuracy: 0.9000\n",
      "Attack: Probabilistic KnockoffNets, Steal Set Size: 10, Accuracy: 0.1000\n",
      "Attack: Argmax KnockoffNets, Steal Set Size: 10, Accuracy: 0.9000\n",
      "Running for len 50\n",
      "Attack: Probabilistic CopycatCNN, Steal Set Size: 50, Accuracy: 0.0600\n",
      "Attack: Argmax CopycatCNN, Steal Set Size: 50, Accuracy: 0.9800\n",
      "Attack: Probabilistic KnockoffNets, Steal Set Size: 50, Accuracy: 0.0600\n",
      "Attack: Argmax KnockoffNets, Steal Set Size: 50, Accuracy: 0.9800\n",
      "Running for len 100\n",
      "Attack: Probabilistic CopycatCNN, Steal Set Size: 100, Accuracy: 0.0800\n",
      "Attack: Argmax CopycatCNN, Steal Set Size: 100, Accuracy: 0.9400\n",
      "Attack: Probabilistic KnockoffNets, Steal Set Size: 100, Accuracy: 0.0800\n",
      "Attack: Argmax KnockoffNets, Steal Set Size: 100, Accuracy: 0.9100\n",
      "Running for len 500\n",
      "Attack: Probabilistic CopycatCNN, Steal Set Size: 500, Accuracy: 0.1140\n",
      "Attack: Argmax CopycatCNN, Steal Set Size: 500, Accuracy: 0.9560\n",
      "Attack: Probabilistic KnockoffNets, Steal Set Size: 500, Accuracy: 0.1100\n",
      "Attack: Argmax KnockoffNets, Steal Set Size: 500, Accuracy: 0.9540\n",
      "Running for len 1000\n",
      "Attack: Probabilistic CopycatCNN, Steal Set Size: 1000, Accuracy: 0.1100\n",
      "Attack: Argmax CopycatCNN, Steal Set Size: 1000, Accuracy: 0.9590\n",
      "Attack: Probabilistic KnockoffNets, Steal Set Size: 1000, Accuracy: 0.0920\n",
      "Attack: Argmax KnockoffNets, Steal Set Size: 1000, Accuracy: 0.9570\n",
      "Running for len 1500\n",
      "Attack: Probabilistic CopycatCNN, Steal Set Size: 1500, Accuracy: 0.1067\n",
      "Attack: Argmax CopycatCNN, Steal Set Size: 1500, Accuracy: 0.9573\n",
      "Attack: Probabilistic KnockoffNets, Steal Set Size: 1500, Accuracy: 0.1013\n",
      "Attack: Argmax KnockoffNets, Steal Set Size: 1500, Accuracy: 0.9580\n",
      "Running for len 2000\n",
      "Attack: Probabilistic CopycatCNN, Steal Set Size: 2000, Accuracy: 0.1135\n",
      "Attack: Argmax CopycatCNN, Steal Set Size: 2000, Accuracy: 0.9485\n",
      "Attack: Probabilistic KnockoffNets, Steal Set Size: 2000, Accuracy: 0.0950\n",
      "Attack: Argmax KnockoffNets, Steal Set Size: 2000, Accuracy: 0.9610\n",
      "Running for len 2500\n",
      "Attack: Probabilistic CopycatCNN, Steal Set Size: 2500, Accuracy: 0.1132\n",
      "Attack: Argmax CopycatCNN, Steal Set Size: 2500, Accuracy: 0.9564\n",
      "Attack: Probabilistic KnockoffNets, Steal Set Size: 2500, Accuracy: 0.0996\n",
      "Attack: Argmax KnockoffNets, Steal Set Size: 2500, Accuracy: 0.9572\n",
      "Running for len 3000\n",
      "Attack: Probabilistic CopycatCNN, Steal Set Size: 3000, Accuracy: 0.0917\n",
      "Attack: Argmax CopycatCNN, Steal Set Size: 3000, Accuracy: 0.9507\n",
      "Attack: Probabilistic KnockoffNets, Steal Set Size: 3000, Accuracy: 0.0993\n",
      "Attack: Argmax KnockoffNets, Steal Set Size: 3000, Accuracy: 0.9537\n",
      "Running for len 3500\n",
      "Attack: Probabilistic CopycatCNN, Steal Set Size: 3500, Accuracy: 0.0886\n",
      "Attack: Argmax CopycatCNN, Steal Set Size: 3500, Accuracy: 0.9531\n",
      "Attack: Probabilistic KnockoffNets, Steal Set Size: 3500, Accuracy: 0.0886\n",
      "Attack: Argmax KnockoffNets, Steal Set Size: 3500, Accuracy: 0.9514\n",
      "Running for len 4000\n",
      "Attack: Probabilistic CopycatCNN, Steal Set Size: 4000, Accuracy: 0.0973\n",
      "Attack: Argmax CopycatCNN, Steal Set Size: 4000, Accuracy: 0.9545\n",
      "Attack: Probabilistic KnockoffNets, Steal Set Size: 4000, Accuracy: 0.0973\n",
      "Attack: Argmax KnockoffNets, Steal Set Size: 4000, Accuracy: 0.9557\n",
      "Running for len 4500\n",
      "Attack: Probabilistic CopycatCNN, Steal Set Size: 4500, Accuracy: 0.1016\n",
      "Attack: Argmax CopycatCNN, Steal Set Size: 4500, Accuracy: 0.9540\n",
      "Attack: Probabilistic KnockoffNets, Steal Set Size: 4500, Accuracy: 0.1020\n",
      "Attack: Argmax KnockoffNets, Steal Set Size: 4500, Accuracy: 0.9511\n",
      "Running for len 5000\n",
      "Attack: Probabilistic CopycatCNN, Steal Set Size: 5000, Accuracy: 0.1026\n",
      "Attack: Argmax CopycatCNN, Steal Set Size: 5000, Accuracy: 0.9536\n",
      "Attack: Probabilistic KnockoffNets, Steal Set Size: 5000, Accuracy: 0.1026\n",
      "Attack: Argmax KnockoffNets, Steal Set Size: 5000, Accuracy: 0.9488\n"
     ]
    }
   ],
   "source": [
    "\n",
    "len_steal = 1000\n",
    "attack_catalogue = {\"Probabilistic CopycatCNN\": CopycatCNN(classifier=classifier_original,\n",
    "                                              batch_size_fit=64,\n",
    "                                              batch_size_query=64,\n",
    "                                              nb_epochs=num_epochs,\n",
    "                                              nb_stolen=len_steal,\n",
    "                                              use_probability=True),\n",
    "                    \"Argmax CopycatCNN\": CopycatCNN(classifier=classifier_original,\n",
    "                                              batch_size_fit=64,\n",
    "                                              batch_size_query=64,\n",
    "                                              nb_epochs=num_epochs,\n",
    "                                              nb_stolen=len_steal,\n",
    "                                              use_probability=False),\n",
    "                    \"Probabilistic KnockoffNets\": KnockoffNets(classifier=classifier_original,\n",
    "                                              batch_size_fit=64,\n",
    "                                              batch_size_query=64,\n",
    "                                              nb_epochs=num_epochs,\n",
    "                                              nb_stolen=len_steal,\n",
    "                                              use_probability=True),\n",
    "                    \"Argmax KnockoffNets\": KnockoffNets(classifier=classifier_original,\n",
    "                                              batch_size_fit=64,\n",
    "                                              batch_size_query=64,\n",
    "                                              nb_epochs=num_epochs,\n",
    "                                              nb_stolen=len_steal,\n",
    "                                              use_probability=False),\n",
    "                   }\n",
    "\n",
    "results = []\n",
    "percentages = [0.001, 0.005, 0.01, 0.05, 0.10, 0.15, 0.20, 0.25, 0.30, 0.35, 0.40, 0.45, 0.50]\n",
    "\n",
    "for percentage in percentages:\n",
    "    len_steal = int(len(test_dataset0) * percentage)\n",
    "    print(f\"Running for len {len_steal}\")\n",
    "    num_steal_samples = int(len(test_dataset0) * percentage)\n",
    "    steal_dataset, test_dataset = random_split(test_dataset0, [len(test_dataset0) - num_steal_samples, num_steal_samples])\n",
    "\n",
    "\n",
    "    # Extract data and labels for steal and test sets\n",
    "    x_steal, y_steal = [], []\n",
    "    for data, label in steal_dataset:\n",
    "        x_steal.append(data.numpy())\n",
    "        y_steal.append(label.numpy())\n",
    "    \n",
    "    x_steal = np.array(x_steal)\n",
    "    y_steal = np.array(y_steal)\n",
    "\n",
    "    x_test, y_test = [], []\n",
    "    for data, label in test_dataset:\n",
    "        x_test.append(data.numpy())\n",
    "        y_test.append(label.numpy())\n",
    "    \n",
    "    x_test = np.array(x_test)\n",
    "    y_test = np.array(y_test)    \n",
    "    \n",
    "    # Perform attacks from the catalogue\n",
    "    for name, attack in attack_catalogue.items():\n",
    "        model_stolen = BaseCNN2D(num_classes=num_classes, device=device)\n",
    "        criterion = nn.CrossEntropyLoss()\n",
    "        optimizer = optim.Adam(model_stolen.parameters(), lr=learning_rate)\n",
    "        \n",
    "        classifier_stolen = PyTorchClassifier(\n",
    "            model=model_stolen,\n",
    "            loss=criterion,\n",
    "            optimizer=optimizer,\n",
    "            input_shape=(x_test.shape[1], x_test.shape[2], x_test.shape[3]),\n",
    "            nb_classes=10,\n",
    "            device_type=\"gpu\" if torch.cuda.is_available() else \"cpu\",\n",
    "        )       \n",
    "        classifier_stolen = attack.extract(x_steal, y_steal, thieved_classifier=classifier_stolen)\n",
    "        \n",
    "        pred = classifier_stolen.predict(x_test)\n",
    "        preds = np.argmax(pred, axis=1)\n",
    "        acc = np.mean(preds == y_test)\n",
    "\n",
    "        results.append((name, len_steal, acc))\n",
    "        print(f\"Attack: {name}, Steal Set Size: {len_steal}, Accuracy: {acc:.4f}\")"
   ]
  },
  {
   "cell_type": "code",
   "execution_count": 8,
   "metadata": {},
   "outputs": [
    {
     "data": {
      "image/png": "[encoded data removed]",
      "text/plain": [
       "<Figure size 800x600 with 1 Axes>"
      ]
     },
     "metadata": {},
     "output_type": "display_data"
    }
   ],
   "source": [
    "import pandas as pd\n",
    "import matplotlib.pyplot as plt\n",
    "df = pd.DataFrame(results, columns=('Method Name', 'Stealing Dataset Size', 'Accuracy'))\n",
    "fig, ax = plt.subplots(figsize=(8,6))\n",
    "ax.set_xlabel(\"Stealing Dataset Size\")\n",
    "ax.set_ylabel(\"Stolen Model Accuracy\")\n",
    "for name, group in df.groupby(\"Method Name\"):\n",
    "    group.plot(1, 2, ax=ax, label=name)\n",
    "    \n",
    "ax.axhline(y=accuracy, color='r', linestyle='--', \n",
    "            label=f\"Test Accuracy ({accuracy:.4f})\")\n",
    "ax.legend()\n",
    "plt.show()"
   ]
  },
  {
   "cell_type": "code",
   "execution_count": null,
   "metadata": {},
   "outputs": [],
   "source": []
  }
 ],
 "metadata": {
  "kernelspec": {
   "display_name": ".venv",
   "language": "python",
   "name": "python3"
  },
  "language_info": {
   "codemirror_mode": {
    "name": "ipython",
    "version": 3
   },
   "file_extension": ".py",
   "mimetype": "text/x-python",
   "name": "python",
   "nbconvert_exporter": "python",
   "pygments_lexer": "ipython3",
   "version": "3.12.7"
  }
 },
 "nbformat": 4,
 "nbformat_minor": 2
}
