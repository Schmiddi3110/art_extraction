{
 "cells": [
  {
   "cell_type": "code",
   "execution_count": 12,
   "metadata": {},
   "outputs": [
    {
     "name": "stdout",
     "output_type": "stream",
     "text": [
      "cuda\n"
     ]
    }
   ],
   "source": [
    "import numpy as np\n",
    "import torch\n",
    "import torch.nn as nn\n",
    "import torch.optim as optim\n",
    "from aeon.datasets import load_classification\n",
    "from sklearn.model_selection import train_test_split\n",
    "from sklearn.preprocessing import LabelEncoder\n",
    "from art.estimators.classification import PyTorchClassifier\n",
    "import random \n",
    "from art.attacks import ExtractionAttack\n",
    "from art.attacks.extraction import CopycatCNN, KnockoffNets\n",
    "import pandas as pd\n",
    "import matplotlib.pyplot as plt\n",
    "import os\n",
    "\n",
    "from CNN_Models import BaseCNN1D\n",
    "\n",
    "\n",
    "random.seed(420)\n",
    "device = torch.device(\"cuda\" if torch.cuda.is_available() else \"cpu\")\n",
    "print(device)\n"
   ]
  },
  {
   "cell_type": "markdown",
   "metadata": {},
   "source": [
    "## Prepare data"
   ]
  },
  {
   "cell_type": "code",
   "execution_count": 13,
   "metadata": {},
   "outputs": [],
   "source": [
    "def load_data(dataset):\n",
    "    X_train, y_train = load_classification(dataset, split=\"train\")\n",
    "    X_test0, y_test0 = load_classification(dataset, split=\"test\")\n",
    "    \n",
    "    le = LabelEncoder()\n",
    "    y_train = le.fit_transform(y_train)\n",
    "    y_test0 = le.fit_transform(y_test0)    \n",
    "\n",
    "    return X_train, y_train, X_test0, y_test0\n",
    "\n",
    "dataset = \"WalkingSittingStanding\"      #also tested for PenDigits"
   ]
  },
  {
   "cell_type": "code",
   "execution_count": 14,
   "metadata": {},
   "outputs": [],
   "source": [
    "x_train, y_train, X_test0, y_test0 = load_data(dataset)\n",
    "\n",
    "# Hyperparameters\n",
    "num_classes = len(np.unique(y_train))\n",
    "num_epochs = 100\n",
    "learning_rate = 0.01\n",
    "batch_size = 128\n",
    "patience = 10  "
   ]
  },
  {
   "cell_type": "code",
   "execution_count": 15,
   "metadata": {},
   "outputs": [
    {
     "name": "stdout",
     "output_type": "stream",
     "text": [
      "Samples in training dataset: 6616\n",
      "Samples in validation dataset: 736\n",
      "Samples in test dataset: 2947\n"
     ]
    }
   ],
   "source": [
    "x_train, x_val, y_train, y_val = train_test_split(x_train, y_train, test_size=0.1, random_state=42)\n",
    "\n",
    "# Create DataLoaders for train, validation, and test\n",
    "train_data = torch.utils.data.TensorDataset(torch.FloatTensor(x_train).to(device), torch.LongTensor(y_train).to(device))\n",
    "val_data = torch.utils.data.TensorDataset(torch.FloatTensor(x_val).to(device), torch.LongTensor(y_val).to(device))\n",
    "test_data = torch.utils.data.TensorDataset(torch.FloatTensor(X_test0).to(device), torch.LongTensor(y_test0).to(device))\n",
    "\n",
    "train_loader = torch.utils.data.DataLoader(train_data, batch_size=batch_size, shuffle=True)\n",
    "val_loader = torch.utils.data.DataLoader(val_data, batch_size=batch_size, shuffle=False)\n",
    "test_loader = torch.utils.data.DataLoader(test_data, batch_size=batch_size, shuffle=False)\n",
    "\n",
    "print(f'Samples in training dataset: {len(train_data)}')\n",
    "print(f'Samples in validation dataset: {len(val_data)}')\n",
    "print(f'Samples in test dataset: {len(test_data)}')"
   ]
  },
  {
   "cell_type": "markdown",
   "metadata": {},
   "source": [
    "## Train model"
   ]
  },
  {
   "cell_type": "code",
   "execution_count": 16,
   "metadata": {},
   "outputs": [
    {
     "name": "stdout",
     "output_type": "stream",
     "text": [
      "Epoch [1/100], Loss: 1.6984, Accuracy: 32.38%\n",
      "Epoch [2/100], Loss: 1.5055, Accuracy: 56.88%\n",
      "Epoch [3/100], Loss: 1.4228, Accuracy: 67.47%\n",
      "Epoch [4/100], Loss: 1.3786, Accuracy: 70.65%\n",
      "Epoch [5/100], Loss: 1.3509, Accuracy: 72.16%\n",
      "Validation at Epoch [5/100]: Loss: 1.3756, Accuracy: 69.02%\n",
      "Epoch [6/100], Loss: 1.3358, Accuracy: 72.84%\n",
      "Epoch [7/100], Loss: 1.3226, Accuracy: 74.00%\n",
      "Epoch [8/100], Loss: 1.3177, Accuracy: 74.12%\n",
      "Epoch [9/100], Loss: 1.3097, Accuracy: 74.49%\n",
      "Epoch [10/100], Loss: 1.3050, Accuracy: 75.24%\n",
      "Validation at Epoch [10/100]: Loss: 1.3340, Accuracy: 72.01%\n",
      "Epoch [11/100], Loss: 1.2986, Accuracy: 75.76%\n",
      "Epoch [12/100], Loss: 1.2981, Accuracy: 75.45%\n",
      "Epoch [13/100], Loss: 1.2941, Accuracy: 76.22%\n",
      "Epoch [14/100], Loss: 1.2906, Accuracy: 76.28%\n",
      "Epoch [15/100], Loss: 1.2880, Accuracy: 76.51%\n",
      "Validation at Epoch [15/100]: Loss: 1.3220, Accuracy: 72.83%\n",
      "Epoch [16/100], Loss: 1.2863, Accuracy: 76.78%\n",
      "Epoch [17/100], Loss: 1.2840, Accuracy: 76.90%\n",
      "Epoch [18/100], Loss: 1.2837, Accuracy: 76.80%\n",
      "Epoch [19/100], Loss: 1.2817, Accuracy: 77.03%\n",
      "Epoch [20/100], Loss: 1.2798, Accuracy: 77.25%\n",
      "Validation at Epoch [20/100]: Loss: 1.3175, Accuracy: 73.64%\n",
      "Epoch [21/100], Loss: 1.2784, Accuracy: 77.45%\n",
      "Epoch [22/100], Loss: 1.2765, Accuracy: 77.71%\n",
      "Epoch [23/100], Loss: 1.2772, Accuracy: 77.51%\n",
      "Epoch [24/100], Loss: 1.2763, Accuracy: 77.46%\n",
      "Epoch [25/100], Loss: 1.2736, Accuracy: 77.81%\n",
      "Validation at Epoch [25/100]: Loss: 1.3123, Accuracy: 73.51%\n",
      "Epoch [26/100], Loss: 1.2721, Accuracy: 77.83%\n",
      "Epoch [27/100], Loss: 1.2732, Accuracy: 77.87%\n",
      "Epoch [28/100], Loss: 1.2705, Accuracy: 78.13%\n",
      "Epoch [29/100], Loss: 1.2697, Accuracy: 78.30%\n",
      "Epoch [30/100], Loss: 1.2689, Accuracy: 78.23%\n",
      "Validation at Epoch [30/100]: Loss: 1.3136, Accuracy: 73.23%\n",
      "Epoch [31/100], Loss: 1.2685, Accuracy: 78.40%\n",
      "Epoch [32/100], Loss: 1.2674, Accuracy: 78.52%\n",
      "Epoch [33/100], Loss: 1.2678, Accuracy: 78.40%\n",
      "Epoch [34/100], Loss: 1.2706, Accuracy: 77.72%\n",
      "Epoch [35/100], Loss: 1.2681, Accuracy: 78.26%\n",
      "Validation at Epoch [35/100]: Loss: 1.3092, Accuracy: 73.37%\n",
      "Epoch [36/100], Loss: 1.2641, Accuracy: 78.64%\n",
      "Epoch [37/100], Loss: 1.2647, Accuracy: 78.70%\n",
      "Epoch [38/100], Loss: 1.2642, Accuracy: 78.57%\n",
      "Epoch [39/100], Loss: 1.2644, Accuracy: 78.67%\n",
      "Epoch [40/100], Loss: 1.2619, Accuracy: 78.90%\n",
      "Validation at Epoch [40/100]: Loss: 1.3080, Accuracy: 73.51%\n",
      "Epoch [41/100], Loss: 1.2616, Accuracy: 78.70%\n",
      "Epoch [42/100], Loss: 1.2618, Accuracy: 78.79%\n",
      "Epoch [43/100], Loss: 1.2625, Accuracy: 78.66%\n",
      "Epoch [44/100], Loss: 1.2621, Accuracy: 78.67%\n",
      "Epoch [45/100], Loss: 1.2604, Accuracy: 79.05%\n",
      "Validation at Epoch [45/100]: Loss: 1.3060, Accuracy: 73.51%\n",
      "Epoch [46/100], Loss: 1.2588, Accuracy: 79.08%\n",
      "Epoch [47/100], Loss: 1.2589, Accuracy: 79.14%\n",
      "Epoch [48/100], Loss: 1.2590, Accuracy: 78.98%\n",
      "Epoch [49/100], Loss: 1.2585, Accuracy: 78.98%\n",
      "Epoch [50/100], Loss: 1.2581, Accuracy: 79.05%\n",
      "Validation at Epoch [50/100]: Loss: 1.3043, Accuracy: 73.78%\n",
      "Epoch [51/100], Loss: 1.2582, Accuracy: 79.10%\n",
      "Epoch [52/100], Loss: 1.2584, Accuracy: 79.05%\n",
      "Epoch [53/100], Loss: 1.2580, Accuracy: 78.98%\n",
      "Epoch [54/100], Loss: 1.2567, Accuracy: 79.19%\n",
      "Epoch [55/100], Loss: 1.2568, Accuracy: 79.26%\n",
      "Validation at Epoch [55/100]: Loss: 1.3054, Accuracy: 74.18%\n",
      "Epoch [56/100], Loss: 1.2564, Accuracy: 79.25%\n",
      "Epoch [57/100], Loss: 1.2562, Accuracy: 79.20%\n",
      "Epoch [58/100], Loss: 1.2560, Accuracy: 79.26%\n",
      "Epoch [59/100], Loss: 1.2564, Accuracy: 79.25%\n",
      "Epoch [60/100], Loss: 1.2555, Accuracy: 79.31%\n",
      "Validation at Epoch [60/100]: Loss: 1.3041, Accuracy: 73.64%\n",
      "Epoch [61/100], Loss: 1.2566, Accuracy: 79.25%\n",
      "Epoch [62/100], Loss: 1.2572, Accuracy: 79.17%\n",
      "Epoch [63/100], Loss: 1.2550, Accuracy: 79.25%\n",
      "Epoch [64/100], Loss: 1.2544, Accuracy: 79.34%\n",
      "Epoch [65/100], Loss: 1.2529, Accuracy: 79.46%\n",
      "Validation at Epoch [65/100]: Loss: 1.3050, Accuracy: 73.23%\n",
      "Epoch [66/100], Loss: 1.2522, Accuracy: 79.66%\n",
      "Epoch [67/100], Loss: 1.2544, Accuracy: 79.38%\n",
      "Epoch [68/100], Loss: 1.2543, Accuracy: 79.31%\n",
      "Epoch [69/100], Loss: 1.2521, Accuracy: 79.69%\n",
      "Epoch [70/100], Loss: 1.2524, Accuracy: 79.59%\n",
      "Validation at Epoch [70/100]: Loss: 1.3043, Accuracy: 74.32%\n",
      "Epoch [71/100], Loss: 1.2519, Accuracy: 79.61%\n",
      "Epoch [72/100], Loss: 1.2523, Accuracy: 79.55%\n",
      "Epoch [73/100], Loss: 1.2520, Accuracy: 79.63%\n",
      "Epoch [74/100], Loss: 1.2501, Accuracy: 79.76%\n",
      "Epoch [75/100], Loss: 1.2516, Accuracy: 79.50%\n",
      "Validation at Epoch [75/100]: Loss: 1.3068, Accuracy: 74.05%\n",
      "Epoch [76/100], Loss: 1.2508, Accuracy: 79.72%\n",
      "Epoch [77/100], Loss: 1.2513, Accuracy: 79.53%\n",
      "Epoch [78/100], Loss: 1.2490, Accuracy: 79.85%\n",
      "Epoch [79/100], Loss: 1.2495, Accuracy: 79.87%\n",
      "Epoch [80/100], Loss: 1.2490, Accuracy: 79.90%\n",
      "Validation at Epoch [80/100]: Loss: 1.3047, Accuracy: 73.64%\n",
      "Epoch [81/100], Loss: 1.2491, Accuracy: 79.94%\n",
      "Epoch [82/100], Loss: 1.2484, Accuracy: 79.99%\n",
      "Epoch [83/100], Loss: 1.2493, Accuracy: 79.73%\n",
      "Epoch [84/100], Loss: 1.2495, Accuracy: 79.75%\n",
      "Epoch [85/100], Loss: 1.2487, Accuracy: 79.96%\n",
      "Validation at Epoch [85/100]: Loss: 1.3028, Accuracy: 74.32%\n",
      "Epoch [86/100], Loss: 1.2490, Accuracy: 79.90%\n",
      "Epoch [87/100], Loss: 1.2479, Accuracy: 79.97%\n",
      "Epoch [88/100], Loss: 1.2477, Accuracy: 79.93%\n",
      "Epoch [89/100], Loss: 1.2470, Accuracy: 80.02%\n",
      "Epoch [90/100], Loss: 1.2485, Accuracy: 79.88%\n",
      "Validation at Epoch [90/100]: Loss: 1.3046, Accuracy: 73.37%\n",
      "Epoch [91/100], Loss: 1.2471, Accuracy: 79.93%\n",
      "Epoch [92/100], Loss: 1.2476, Accuracy: 80.08%\n",
      "Epoch [93/100], Loss: 1.2477, Accuracy: 80.00%\n",
      "Epoch [94/100], Loss: 1.2478, Accuracy: 79.93%\n",
      "Epoch [95/100], Loss: 1.2493, Accuracy: 79.82%\n",
      "Validation at Epoch [95/100]: Loss: 1.3018, Accuracy: 74.32%\n",
      "Epoch [96/100], Loss: 1.2476, Accuracy: 80.02%\n",
      "Epoch [97/100], Loss: 1.2467, Accuracy: 80.05%\n",
      "Epoch [98/100], Loss: 1.2470, Accuracy: 79.93%\n",
      "Epoch [99/100], Loss: 1.2470, Accuracy: 80.06%\n",
      "Epoch [100/100], Loss: 1.2456, Accuracy: 80.15%\n",
      "Validation at Epoch [100/100]: Loss: 1.3023, Accuracy: 74.18%\n"
     ]
    }
   ],
   "source": [
    "model = BaseCNN1D(num_classes=num_classes,device=device, num_epochs=num_epochs, learning_rate=learning_rate, patience=patience).cuda()\n",
    "model.train_model(train_loader, val_loader)"
   ]
  },
  {
   "cell_type": "markdown",
   "metadata": {},
   "source": [
    "## Test model"
   ]
  },
  {
   "cell_type": "code",
   "execution_count": 17,
   "metadata": {},
   "outputs": [
    {
     "name": "stdout",
     "output_type": "stream",
     "text": [
      "Test Accuracy: 0.6725\n"
     ]
    }
   ],
   "source": [
    "# Evaluation\n",
    "with torch.no_grad():\n",
    "    model.eval()\n",
    "    test_data = torch.FloatTensor(X_test0).cuda()\n",
    "    test_labels = torch.LongTensor(y_test0).cuda()\n",
    "    outputs = model(test_data)\n",
    "    _, predicted = torch.max(outputs.data, 1)\n",
    "    accuracy = (predicted == test_labels).sum().item() / test_labels.size(0)\n",
    "    print(f'Test Accuracy: {accuracy:.4f}')\n"
   ]
  },
  {
   "cell_type": "markdown",
   "metadata": {},
   "source": [
    "## Define original Classifier"
   ]
  },
  {
   "cell_type": "code",
   "execution_count": 18,
   "metadata": {},
   "outputs": [
    {
     "name": "stdout",
     "output_type": "stream",
     "text": [
      "Test Accuracy: 0.6725\n"
     ]
    }
   ],
   "source": [
    "from art.attacks import ExtractionAttack\n",
    "from art.attacks.extraction import CopycatCNN, KnockoffNets\n",
    "from art.estimators.classification import PyTorchClassifier\n",
    "\n",
    "len_steal = 1000\n",
    "\n",
    "criterion = nn.CrossEntropyLoss()\n",
    "optimizer_original = optim.Adam(model.parameters(), lr=learning_rate)\n",
    "classifier_original = PyTorchClassifier(model=model, loss=criterion, optimizer=optimizer_original, input_shape=(batch_size,x_train.shape[1], x_train.shape[2]), nb_classes=num_classes)\n",
    "pred = classifier_original.predict(torch.FloatTensor(X_test0))\n",
    "\n",
    "preds = np.argmax(pred, axis=1)\n",
    "acc = np.mean(preds == y_test0)\n",
    "print(f'Test Accuracy: {acc:.4f}')\n"
   ]
  },
  {
   "cell_type": "markdown",
   "metadata": {},
   "source": [
    "## Run attacks"
   ]
  },
  {
   "cell_type": "code",
   "execution_count": 19,
   "metadata": {},
   "outputs": [
    {
     "name": "stdout",
     "output_type": "stream",
     "text": [
      "running attack for 2 samples\n",
      "Probabilistic CopycatCNN : 0.1599320882852292\n",
      "Argmax CopycatCNN : 0.1772495755517827\n",
      "Probabilistic KnockoffNets : 0.1799660441426146\n",
      "Argmax KnockoffNets : 0.18234295415959254\n",
      "running attack for 14 samples\n",
      "Probabilistic CopycatCNN : 0.18377088305489261\n",
      "Argmax CopycatCNN : 0.14251619502216162\n",
      "Probabilistic KnockoffNets : 0.14251619502216162\n",
      "Argmax KnockoffNets : 0.1708148653256052\n",
      "running attack for 29 samples\n",
      "Probabilistic CopycatCNN : 0.10932145305003427\n",
      "Argmax CopycatCNN : 0.18060315284441397\n",
      "Probabilistic KnockoffNets : 0.19328307059629884\n",
      "Argmax KnockoffNets : 0.14359150102810145\n",
      "running attack for 147 samples\n",
      "Probabilistic CopycatCNN : 0.1325\n",
      "Argmax CopycatCNN : 0.18571428571428572\n",
      "Probabilistic KnockoffNets : 0.18071428571428572\n",
      "Argmax KnockoffNets : 0.1682142857142857\n",
      "running attack for 294 samples\n",
      "Probabilistic CopycatCNN : 0.1436110064078402\n",
      "Argmax CopycatCNN : 0.15491895966830005\n",
      "Probabilistic KnockoffNets : 0.16471918582736525\n",
      "Argmax KnockoffNets : 0.15793441387108934\n",
      "running attack for 442 samples\n",
      "Probabilistic CopycatCNN : 0.2934131736526946\n",
      "Argmax CopycatCNN : 0.06467065868263473\n",
      "Probabilistic KnockoffNets : 0.162874251497006\n",
      "Argmax KnockoffNets : 0.1656686626746507\n",
      "running attack for 589 samples\n",
      "Probabilistic CopycatCNN : 0.15988125530110264\n",
      "Argmax CopycatCNN : 0.15988125530110264\n",
      "Probabilistic KnockoffNets : 0.18490245971162\n",
      "Argmax KnockoffNets : 0.13104325699745548\n",
      "running attack for 736 samples\n",
      "Probabilistic CopycatCNN : 0.11216644052464948\n",
      "Argmax CopycatCNN : 0.1388511985526911\n",
      "Probabilistic KnockoffNets : 0.13749434644957034\n",
      "Argmax KnockoffNets : 0.17005879692446857\n",
      "running attack for 884 samples\n",
      "Probabilistic CopycatCNN : 0.1536597188560349\n",
      "Argmax CopycatCNN : 0.19873969946679593\n",
      "Probabilistic KnockoffNets : 0.14832767813863307\n",
      "Argmax KnockoffNets : 0.14299563742123123\n",
      "running attack for 1031 samples\n",
      "Probabilistic CopycatCNN : 0.018789144050104383\n",
      "Argmax CopycatCNN : 0.17901878914405012\n",
      "Probabilistic KnockoffNets : 0.16231732776617955\n",
      "Argmax KnockoffNets : 0.15501043841336118\n",
      "running attack for 1178 samples\n",
      "Probabilistic CopycatCNN : 0.2515545505935557\n",
      "Argmax CopycatCNN : 0.1622385528547202\n",
      "Probabilistic KnockoffNets : 0.15884680610514415\n",
      "Argmax KnockoffNets : 0.18089315997738836\n",
      "running attack for 1326 samples\n",
      "Probabilistic CopycatCNN : 0.2461443553362122\n",
      "Argmax CopycatCNN : 0.17396668723010486\n",
      "Probabilistic KnockoffNets : 0.1727328809376928\n",
      "Argmax KnockoffNets : 0.1499074645280691\n",
      "running attack for 1473 samples\n",
      "Probabilistic CopycatCNN : 0.14382632293080055\n",
      "Argmax CopycatCNN : 0.16689280868385345\n",
      "Probabilistic KnockoffNets : 0.1621438263229308\n",
      "Argmax KnockoffNets : 0.18860244233378562\n"
     ]
    }
   ],
   "source": [
    "attack_catalogue = {\"Probabilistic CopycatCNN\": CopycatCNN(classifier=classifier_original,\n",
    "                                              batch_size_fit=64,\n",
    "                                              batch_size_query=64,\n",
    "                                              nb_epochs=num_epochs,\n",
    "                                              nb_stolen=len_steal,\n",
    "                                              use_probability=True),\n",
    "                    \"Argmax CopycatCNN\": CopycatCNN(classifier=classifier_original,\n",
    "                                              batch_size_fit=64,\n",
    "                                              batch_size_query=64,\n",
    "                                              nb_epochs=num_epochs,\n",
    "                                              nb_stolen=len_steal,\n",
    "                                              use_probability=False),\n",
    "                    \"Probabilistic KnockoffNets\": KnockoffNets(classifier=classifier_original,\n",
    "                                              batch_size_fit=64,\n",
    "                                              batch_size_query=64,\n",
    "                                              nb_epochs=num_epochs,\n",
    "                                              nb_stolen=len_steal,\n",
    "                                              use_probability=True),\n",
    "                    \"Argmax KnockoffNets\": KnockoffNets(classifier=classifier_original,\n",
    "                                              batch_size_fit=64,\n",
    "                                              batch_size_query=64,\n",
    "                                              nb_epochs=num_epochs,\n",
    "                                              nb_stolen=len_steal,\n",
    "                                              use_probability=False),\n",
    "                   }\n",
    "\n",
    "results = []\n",
    "percentages = [0.001, 0.005, 0.01, 0.05, 0.10, 0.15, 0.20, 0.25, 0.30, 0.35, 0.40, 0.45, 0.50]  # Generate percentages of samples to run the attacks on\n",
    "\n",
    "for percentage in percentages:\n",
    "    len_steal = int(len(X_test0) * percentage) \n",
    "    print(f'running attack for {len_steal} samples')\n",
    "    indices = np.random.permutation(len(X_test0))\n",
    "    x_steal = X_test0[indices[:len_steal]]\n",
    "    y_steal = y_test0[indices[:len_steal]]\n",
    "    x_test = X_test0[indices[len_steal:]]\n",
    "    y_test = y_test0[indices[len_steal:]] \n",
    "\n",
    "\n",
    "    for name, attack in attack_catalogue.items():\n",
    "        model_stolen = BaseCNN1D(num_classes=num_classes, device=device)\n",
    "        criterion = nn.CrossEntropyLoss()\n",
    "        optimizer = optim.Adam(model.parameters(), lr=learning_rate)\n",
    "\n",
    "        classifier_stolen = PyTorchClassifier(model=model_stolen, loss=criterion, optimizer=optimizer, input_shape=(batch_size, x_steal.shape[1], x_steal.shape[2]), nb_classes=num_classes)\n",
    "        classifier_stolen = attack.extract(x_steal, y_steal, thieved_classifier=classifier_stolen)\n",
    "\n",
    "        pred = classifier_stolen.predict(torch.FloatTensor(x_test))\n",
    "        \n",
    "        preds = np.argmax(pred, axis=1)\n",
    "        acc = np.mean(preds == y_test)\n",
    "        \n",
    "        print(name, \":\", acc)\n",
    "\n",
    "        results.append((name, len_steal, acc))"
   ]
  },
  {
   "cell_type": "code",
   "execution_count": 20,
   "metadata": {},
   "outputs": [
    {
     "data": {
      "image/png": "[encoded data removed]",
      "text/plain": [
       "<Figure size 800x600 with 1 Axes>"
      ]
     },
     "metadata": {},
     "output_type": "display_data"
    }
   ],
   "source": [
    "import pandas as pd\n",
    "import matplotlib.pyplot as plt\n",
    "df = pd.DataFrame(results, columns=('Method Name', 'Stealing Dataset Size', 'Accuracy'))\n",
    "fig, ax = plt.subplots(figsize=(8,6))\n",
    "ax.set_xlabel(\"Stealing Dataset Size\")\n",
    "ax.set_ylabel(\"Stolen Model Accuracy\")\n",
    "for name, group in df.groupby(\"Method Name\"):\n",
    "    group.plot(1, 2, ax=ax, label=name)\n",
    "    \n",
    "ax.axhline(y=accuracy, color='r', linestyle='--', \n",
    "            label=f\"Test Accuracy ({accuracy:.4f})\")\n",
    "ax.legend()\n",
    "plt.show()"
   ]
  }
 ],
 "metadata": {
  "kernelspec": {
   "display_name": ".venv",
   "language": "python",
   "name": "python3"
  },
  "language_info": {
   "codemirror_mode": {
    "name": "ipython",
    "version": 3
   },
   "file_extension": ".py",
   "mimetype": "text/x-python",
   "name": "python",
   "nbconvert_exporter": "python",
   "pygments_lexer": "ipython3",
   "version": "3.12.7"
  }
 },
 "nbformat": 4,
 "nbformat_minor": 2
}
